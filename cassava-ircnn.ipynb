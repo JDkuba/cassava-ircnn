{
 "cells": [
  {
   "cell_type": "code",
   "execution_count": 1,
   "metadata": {
    "_cell_guid": "b1076dfc-b9ad-4769-8c92-a6c4dae69d19",
    "_uuid": "8f2839f25d086af736a60e9eeb907d3b93b6e0e5",
    "execution": {
     "iopub.execute_input": "2021-03-01T14:01:00.120636Z",
     "iopub.status.busy": "2021-03-01T14:01:00.119708Z",
     "iopub.status.idle": "2021-03-01T14:01:03.041403Z",
     "shell.execute_reply": "2021-03-01T14:01:03.042519Z"
    },
    "papermill": {
     "duration": 2.941342,
     "end_time": "2021-03-01T14:01:03.043012",
     "exception": false,
     "start_time": "2021-03-01T14:01:00.101670",
     "status": "completed"
    },
    "tags": []
   },
   "outputs": [],
   "source": [
    "# This Python 3 environment comes with many helpful analytics libraries installed\n",
    "# It is defined by the kaggle/python Docker image: https://github.com/kaggle/docker-python\n",
    "# For example, here's several helpful packages to load\n",
    "\n",
    "import numpy as np # linear algebra\n",
    "import pandas as pd # data processing, CSV file I/O (e.g. pd.read_csv)\n",
    "from collections import Counter\n",
    "from sklearn.model_selection import train_test_split\n",
    "import torch\n",
    "import torch.nn as nn\n",
    "from PIL import Image\n",
    "import os\n",
    "import torchvision.transforms as transforms\n",
    "import torch.optim as optim\n",
    "import torch.nn.functional as F\n",
    "\n",
    "\n",
    "# Input data files are available in the read-only \"../input/\" directory\n",
    "# For example, running this (by clicking run or pressing Shift+Enter) will list all files under the input directory\n",
    "\n",
    "# import os\n",
    "# for dirname, _, filenames in os.walk('/kaggle/input'):\n",
    "#     for filename in filenames:\n",
    "#         print(os.path.join(dirname, filename))\n",
    "\n",
    "# You can write up to 20GB to the current directory (/kaggle/working/) that gets preserved as output when you create a version using \"Save & Run All\" \n",
    "# You can also write temporary files to /kaggle/temp/, but they won't be saved outside of the current session"
   ]
  },
  {
   "cell_type": "code",
   "execution_count": 2,
   "metadata": {
    "execution": {
     "iopub.execute_input": "2021-03-01T14:01:03.084486Z",
     "iopub.status.busy": "2021-03-01T14:01:03.083391Z",
     "iopub.status.idle": "2021-03-01T14:01:03.101919Z",
     "shell.execute_reply": "2021-03-01T14:01:03.102579Z"
    },
    "papermill": {
     "duration": 0.044844,
     "end_time": "2021-03-01T14:01:03.102811",
     "exception": false,
     "start_time": "2021-03-01T14:01:03.057967",
     "status": "completed"
    },
    "tags": []
   },
   "outputs": [
    {
     "name": "stdout",
     "output_type": "stream",
     "text": [
      "{\n",
      "    \"0\": \"Cassava Bacterial Blight (CBB)\",\n",
      "    \"1\": \"Cassava Brown Streak Disease (CBSD)\",\n",
      "    \"2\": \"Cassava Green Mottle (CGM)\",\n",
      "    \"3\": \"Cassava Mosaic Disease (CMD)\",\n",
      "    \"4\": \"Healthy\"\n",
      "}\n"
     ]
    }
   ],
   "source": [
    "import json\n",
    "BASE_DIR = \"../input/cassava-leaf-disease-classification/\"\n",
    "\n",
    "with open(os.path.join(BASE_DIR, \"label_num_to_disease_map.json\")) as file:\n",
    "    map_classes = json.loads(file.read())\n",
    "    map_classes = {int(k) : v for k, v in map_classes.items()}\n",
    "\n",
    "print(json.dumps(map_classes, indent=4))"
   ]
  },
  {
   "cell_type": "code",
   "execution_count": 3,
   "metadata": {
    "execution": {
     "iopub.execute_input": "2021-03-01T14:01:03.147534Z",
     "iopub.status.busy": "2021-03-01T14:01:03.145411Z",
     "iopub.status.idle": "2021-03-01T14:01:03.208146Z",
     "shell.execute_reply": "2021-03-01T14:01:03.209271Z"
    },
    "papermill": {
     "duration": 0.09098,
     "end_time": "2021-03-01T14:01:03.209521",
     "exception": false,
     "start_time": "2021-03-01T14:01:03.118541",
     "status": "completed"
    },
    "tags": []
   },
   "outputs": [
    {
     "name": "stdout",
     "output_type": "stream",
     "text": [
      "         image_id  label\n",
      "0  1000015157.jpg      0\n",
      "1  1000201771.jpg      3\n",
      "2   100042118.jpg      1\n",
      "3  1000723321.jpg      1\n",
      "4  1000812911.jpg      3\n"
     ]
    }
   ],
   "source": [
    "data = pd.read_csv(BASE_DIR + 'train.csv')\n",
    "\n",
    "train_df = data\n",
    "print(train_df.head())\n",
    "    \n",
    "# train_df, val_df = train_test_split(data, test_size = 0.1, random_state = 42, stratify = data['label'])"
   ]
  },
  {
   "cell_type": "code",
   "execution_count": 4,
   "metadata": {
    "execution": {
     "iopub.execute_input": "2021-03-01T14:01:03.257382Z",
     "iopub.status.busy": "2021-03-01T14:01:03.256513Z",
     "iopub.status.idle": "2021-03-01T14:01:03.267288Z",
     "shell.execute_reply": "2021-03-01T14:01:03.268347Z"
    },
    "papermill": {
     "duration": 0.039595,
     "end_time": "2021-03-01T14:01:03.268538",
     "exception": false,
     "start_time": "2021-03-01T14:01:03.228943",
     "status": "completed"
    },
    "tags": []
   },
   "outputs": [],
   "source": [
    "class CassavaDataset(torch.utils.data.Dataset):\n",
    "    def __init__(self, df, data_path=BASE_DIR, mode=\"train\", transform=None):\n",
    "        super().__init__()\n",
    "        self.transform = transform\n",
    "        self.df_data = df.values\n",
    "        self.data_path = data_path\n",
    "        self.mode = mode\n",
    "        self.data_dir = \"train_images\" if mode == \"train\" else \"test_images\"\n",
    "\n",
    "    def __len__(self):\n",
    "        return len(self.df_data)\n",
    "\n",
    "    def __getitem__(self, index):\n",
    "        img_name, label = self.df_data[index]\n",
    "        img_path = os.path.join(self.data_path, self.data_dir, img_name)\n",
    "        img = Image.open(img_path).convert(\"RGB\")\n",
    "        if self.transform:\n",
    "            image = self.transform(img)\n",
    "\n",
    "        return image, label, index\n",
    "\n",
    "transforms_train = transforms.Compose(\n",
    "    [\n",
    "        transforms.Resize((224, 224)),\n",
    "        transforms.RandomHorizontalFlip(p=0.3),\n",
    "        transforms.RandomVerticalFlip(p=0.3),\n",
    "        transforms.RandomResizedCrop(224),\n",
    "        transforms.ToTensor(),\n",
    "        transforms.Normalize((0.485, 0.456, 0.406), (0.229, 0.224, 0.225)),\n",
    "    ]\n",
    ")\n",
    "\n",
    "# sprawdzi\n",
    "train_dataset = CassavaDataset(train_df, transform=transforms_train)\n",
    "train_loader = torch.utils.data.DataLoader(train_dataset, batch_size=16, num_workers=12)"
   ]
  },
  {
   "cell_type": "code",
   "execution_count": 5,
   "metadata": {
    "execution": {
     "iopub.execute_input": "2021-03-01T14:01:03.310394Z",
     "iopub.status.busy": "2021-03-01T14:01:03.309488Z",
     "iopub.status.idle": "2021-03-01T14:01:03.320150Z",
     "shell.execute_reply": "2021-03-01T14:01:03.321163Z"
    },
    "papermill": {
     "duration": 0.038223,
     "end_time": "2021-03-01T14:01:03.321372",
     "exception": false,
     "start_time": "2021-03-01T14:01:03.283149",
     "status": "completed"
    },
    "tags": []
   },
   "outputs": [],
   "source": [
    "class RCL(nn.Module):\n",
    "    def __init__(self, in_channels, out_channels, kernel_size):\n",
    "        super(RCL, self).__init__()\n",
    "        padding = 0 if kernel_size == 1 else 1\n",
    "        self.conv1 = nn.Conv2d(in_channels, out_channels, kernel_size, padding=padding)\n",
    "        self.bn2d1 = nn.BatchNorm2d(num_features=out_channels)\n",
    "        self.convr = nn.Conv2d(out_channels, out_channels, kernel_size, padding=padding)\n",
    "        self.bn2dr = nn.BatchNorm2d(num_features=out_channels)\n",
    "\n",
    "    def forward(self, x):\n",
    "        conv1 = self.conv1(x)\n",
    "        conv2 = self.convr(F.relu(self.bn2d1(conv1)))\n",
    "        x1 = conv1.add(conv2)\n",
    "        conv3 = self.convr(F.relu(self.bn2dr(x1)))\n",
    "        x1 = conv1.add(conv3)\n",
    "        conv4 = self.convr(F.relu(self.bn2dr(x1)))\n",
    "        x1 = conv1.add(conv4)\n",
    "        x1 = F.relu(self.bn2dr(x1))\n",
    "        return x1\n",
    "    \n",
    "class Block(nn.Module):\n",
    "    def __init__(self):\n",
    "        super(Block, self).__init__()\n",
    "        self.rcl1 = RCL(in_channels=64, out_channels=64, kernel_size=1)\n",
    "        self.rcl2 = RCL(in_channels=64, out_channels=128, kernel_size=3)\n",
    "        self.avgPool2d = nn.AvgPool2d(3, stride=1, padding=1)\n",
    "        self.rcl3 = RCL(in_channels=64, out_channels=64, kernel_size=1)\n",
    "\n",
    "    def forward(self, x):\n",
    "        x1 = self.rcl1(x)\n",
    "        x2 = self.rcl2(x)\n",
    "        x3 = self.rcl3(self.avgPool2d(x))\n",
    "        return torch.cat((x1, x2, x3), 1)"
   ]
  },
  {
   "cell_type": "code",
   "execution_count": 6,
   "metadata": {
    "execution": {
     "iopub.execute_input": "2021-03-01T14:01:03.363273Z",
     "iopub.status.busy": "2021-03-01T14:01:03.362340Z",
     "iopub.status.idle": "2021-03-01T14:01:03.381070Z",
     "shell.execute_reply": "2021-03-01T14:01:03.382192Z"
    },
    "papermill": {
     "duration": 0.045424,
     "end_time": "2021-03-01T14:01:03.382411",
     "exception": false,
     "start_time": "2021-03-01T14:01:03.336987",
     "status": "completed"
    },
    "tags": []
   },
   "outputs": [],
   "source": [
    "class IRCNN(nn.Module):\n",
    "    def __init__(self, dropout=0.5):\n",
    "        super(IRCNN, self).__init__()\n",
    "        self.conv1 = nn.Conv2d(in_channels=3, out_channels=32, kernel_size=3, stride=2)\n",
    "        self.conv2 = nn.Conv2d(in_channels=32, out_channels=32, kernel_size=3)\n",
    "        self.bn2d2 = nn.BatchNorm2d(num_features=32)\n",
    "        self.conv3 = nn.Conv2d(in_channels=32, out_channels=64, kernel_size=3)\n",
    "        self.bn2d3 = nn.BatchNorm2d(num_features=64)\n",
    "\n",
    "        self.block1 = Block()\n",
    "        self.conv_b1 = nn.Conv2d(in_channels=256, out_channels=64, kernel_size=3, stride=1, padding=1)\n",
    "        self.bn2d_b1 = nn.BatchNorm2d(num_features=64)\n",
    "        self.maxPool2d_b1 = nn.MaxPool2d(3, stride=1, padding=1)\n",
    "        self.dropout_b1 = nn.Dropout2d(p=dropout)\n",
    "\n",
    "        self.block2 = Block()\n",
    "        self.conv_b2 = nn.Conv2d(in_channels=256, out_channels=64, kernel_size=3, stride=1, padding=1)\n",
    "        self.bn2d_b2 = nn.BatchNorm2d(num_features=64)\n",
    "        self.maxPool2d_b2 = nn.MaxPool2d(3, stride=1, padding=1)\n",
    "        self.dropout_b2 = nn.Dropout2d(p=dropout)\n",
    "\n",
    "        self.block3 = Block()\n",
    "        self.conv_b3 = nn.Conv2d(in_channels=256, out_channels=64, kernel_size=3, stride=1, padding=1)\n",
    "        self.bn2d_b3 = nn.BatchNorm2d(num_features=64)\n",
    "        self.globalAvgPool = nn.AdaptiveAvgPool2d(1)\n",
    "        self.dropout_b3 = nn.Dropout2d(p=dropout)\n",
    "\n",
    "        self.dense1 = nn.Linear(64, 5)\n",
    "        \n",
    "    def forward(self, x):\n",
    "        x1 = self.conv1(x)\n",
    "        x1 = F.relu(self.bn2d2(self.conv2(x1)))\n",
    "        x1 = F.relu(self.bn2d3(self.conv3(x1)))\n",
    "        #\n",
    "        x1 = self.block1(x1)\n",
    "        x1 = self.conv_b1(x1)\n",
    "        x1 = self.bn2d_b1(x1)\n",
    "        x1 = self.maxPool2d_b1(x1)\n",
    "        x1 = self.dropout_b1(x1)\n",
    "        #\n",
    "        x1 = self.block2(x1)\n",
    "        x1 = self.conv_b2(x1)\n",
    "        x1 = self.bn2d_b2(x1)\n",
    "        x1 = self.maxPool2d_b2(x1)\n",
    "        x1 = self.dropout_b2(x1)\n",
    "        #\n",
    "        x1 = self.block3(x1)\n",
    "        x1 = self.conv_b3(x1)\n",
    "        x1 = self.bn2d_b3(x1)\n",
    "        x1 = self.globalAvgPool(x1)\n",
    "        x1 = self.dropout_b3(x1)\n",
    "        x1 = x1.view(x1.size(0), -1)\n",
    "        return self.dense1(x1)"
   ]
  },
  {
   "cell_type": "code",
   "execution_count": 7,
   "metadata": {
    "execution": {
     "iopub.execute_input": "2021-03-01T14:01:03.839190Z",
     "iopub.status.busy": "2021-03-01T14:01:03.838203Z",
     "iopub.status.idle": "2021-03-01T14:01:08.455705Z",
     "shell.execute_reply": "2021-03-01T14:01:08.454535Z"
    },
    "papermill": {
     "duration": 5.057105,
     "end_time": "2021-03-01T14:01:08.455872",
     "exception": false,
     "start_time": "2021-03-01T14:01:03.398767",
     "status": "completed"
    },
    "tags": []
   },
   "outputs": [
    {
     "name": "stdout",
     "output_type": "stream",
     "text": [
      "cuda:0\n",
      "1338\n"
     ]
    }
   ],
   "source": [
    "if torch.cuda.is_available():  \n",
    "    dev = \"cuda:0\" \n",
    "else:  \n",
    "    raise Exception(\"Turn on GPU\")  \n",
    "print(dev)\n",
    "\n",
    "net = IRCNN()\n",
    "net.to(dev)\n",
    "\n",
    "optimizer = optim.SGD(net.parameters(), lr=0.02, momentum=0.9)\n",
    "criterion = nn.CrossEntropyLoss()\n",
    "print(len(train_loader))"
   ]
  },
  {
   "cell_type": "code",
   "execution_count": 8,
   "metadata": {
    "collapsed": true,
    "execution": {
     "iopub.execute_input": "2021-03-01T14:01:08.485370Z",
     "iopub.status.busy": "2021-03-01T14:01:08.483195Z",
     "iopub.status.idle": "2021-03-01T14:01:08.486402Z",
     "shell.execute_reply": "2021-03-01T14:01:08.486921Z"
    },
    "papermill": {
     "duration": 0.0195,
     "end_time": "2021-03-01T14:01:08.487066",
     "exception": false,
     "start_time": "2021-03-01T14:01:08.467566",
     "status": "completed"
    },
    "tags": []
   },
   "outputs": [],
   "source": [
    "# print(os.mkdir('../input/'))"
   ]
  },
  {
   "cell_type": "code",
   "execution_count": 9,
   "metadata": {
    "execution": {
     "iopub.execute_input": "2021-03-01T14:01:08.524906Z",
     "iopub.status.busy": "2021-03-01T14:01:08.524188Z",
     "iopub.status.idle": "2021-03-01T17:31:14.057204Z",
     "shell.execute_reply": "2021-03-01T17:31:14.057855Z"
    },
    "papermill": {
     "duration": 12605.559211,
     "end_time": "2021-03-01T17:31:14.058054",
     "exception": false,
     "start_time": "2021-03-01T14:01:08.498843",
     "status": "completed"
    },
    "tags": []
   },
   "outputs": [
    {
     "name": "stdout",
     "output_type": "stream",
     "text": [
      "cuda:0\n",
      "----------EPOCH 1----------\n",
      "1 loss: 1.130, accuracy: 61.33%, \n",
      "----------EPOCH 2----------\n",
      "2 loss: 1.044, accuracy: 63.12%, \n",
      "----------EPOCH 3----------\n",
      "3 loss: 0.993, accuracy: 64.11%, \n",
      "----------EPOCH 4----------\n",
      "4 loss: 0.959, accuracy: 64.81%, \n",
      "----------EPOCH 5----------\n",
      "5 loss: 0.929, accuracy: 65.47%, \n",
      "----------EPOCH 6----------\n",
      "6 loss: 0.899, accuracy: 66.74%, \n",
      "----------EPOCH 7----------\n",
      "7 loss: 0.861, accuracy: 67.99%, \n",
      "----------EPOCH 8----------\n",
      "8 loss: 0.835, accuracy: 69.32%, \n",
      "----------EPOCH 9----------\n",
      "9 loss: 0.811, accuracy: 70.38%, \n",
      "----------EPOCH 10----------\n",
      "10 loss: 0.796, accuracy: 71.00%, \n",
      "----------EPOCH 11----------\n",
      "11 loss: 0.781, accuracy: 71.69%, \n",
      "----------EPOCH 12----------\n",
      "12 loss: 0.764, accuracy: 72.80%, \n",
      "----------EPOCH 13----------\n",
      "13 loss: 0.757, accuracy: 72.78%, \n",
      "----------EPOCH 14----------\n",
      "14 loss: 0.743, accuracy: 73.30%, \n",
      "----------EPOCH 15----------\n",
      "15 loss: 0.731, accuracy: 74.18%, \n",
      "----------EPOCH 16----------\n",
      "16 loss: 0.724, accuracy: 73.89%, \n",
      "----------EPOCH 17----------\n",
      "17 loss: 0.711, accuracy: 74.75%, \n",
      "----------EPOCH 18----------\n",
      "18 loss: 0.706, accuracy: 74.62%, \n",
      "----------EPOCH 19----------\n",
      "19 loss: 0.699, accuracy: 74.98%, \n",
      "----------EPOCH 20----------\n",
      "20 loss: 0.696, accuracy: 74.95%, \n",
      "----------EPOCH 21----------\n",
      "21 loss: 0.690, accuracy: 75.66%, \n",
      "----------EPOCH 22----------\n",
      "22 loss: 0.688, accuracy: 75.46%, \n",
      "----------EPOCH 23----------\n",
      "23 loss: 0.677, accuracy: 76.21%, \n",
      "----------EPOCH 24----------\n",
      "24 loss: 0.673, accuracy: 76.16%, \n",
      "----------EPOCH 25----------\n",
      "25 loss: 0.665, accuracy: 76.67%, \n",
      "[(1, 1.1303916297775034, 61.331027714165536), (2, 1.0442723657919153, 63.11632471841847), (3, 0.9933368440255278, 64.11179137262233), (4, 0.9585590505101043, 64.80815067532832), (5, 0.9290457272342503, 65.47179511146422), (6, 0.8991301554869109, 66.7430013553302), (7, 0.8606821515991371, 67.99083983736038), (8, 0.8345273313946432, 69.32280226199934), (9, 0.8112583913922488, 70.3790250969762), (10, 0.796162252268449, 71.00060756180773), (11, 0.7814746702309859, 71.69229331214656), (12, 0.7637408896278373, 72.79525167079497), (13, 0.7566010949322995, 72.78123101369351), (14, 0.7425842909935878, 73.29999532644763), (15, 0.7311199359116889, 74.17862317147264), (16, 0.7238500306246348, 73.89353647707622), (17, 0.7112264861484993, 74.74879656026546), (18, 0.7059821645173792, 74.62261064635229), (19, 0.6990601395455889, 74.98247417862318), (20, 0.6956636451062244, 74.94975931205309), (21, 0.6899706988925357, 75.6648128242277), (22, 0.6882914576807543, 75.4591765200729), (23, 0.6768556303151163, 76.21161845118475), (24, 0.6728073323565926, 76.16020937514605), (25, 0.6649310109393479, 76.67430013553302)]\n"
     ]
    }
   ],
   "source": [
    "print(dev)\n",
    "best_accuracy = 0\n",
    "epochs = 25\n",
    "results = [] # list of tuples (epoch, loss, accuracy)\n",
    "# save_path = \"../input/model/\" + 'v1.0'\n",
    "\n",
    "for epoch in range(epochs):\n",
    "    print(f'----------EPOCH {epoch + 1}----------')\n",
    "    running_loss = 0.0\n",
    "    running_loss_n = 0\n",
    "    correct = 0\n",
    "    total = 0\n",
    "    for i, data in enumerate(train_loader):\n",
    "        inputs, labels, _ = data\n",
    "        inputs = inputs.to(dev)\n",
    "        labels = labels.to(dev)\n",
    "        optimizer.zero_grad()\n",
    "        \n",
    "        # forward\n",
    "        outputs = net(inputs)\n",
    "        \n",
    "        # gather metrics\n",
    "        _, predicted = torch.max(outputs.data, 1)\n",
    "        total += labels.size(0)\n",
    "        correct += (predicted == labels).sum().item()\n",
    "        \n",
    "        # backward\n",
    "        loss = criterion(outputs, labels)\n",
    "        loss.backward()\n",
    "        optimizer.step()\n",
    "        \n",
    "        running_loss += loss.item()\n",
    "        running_loss_n += 1\n",
    "#         if i % 100 == 0:\n",
    "#             print(f'{i}: {loss.item()}')\n",
    "            \n",
    "    epoch_accuracy = 100 * correct / total\n",
    "    current_loss = running_loss / running_loss_n\n",
    "    results.append((epoch + 1, current_loss, epoch_accuracy))\n",
    "    print((f\"{epoch + 1} loss: {current_loss:.3f}, \"\n",
    "          f\"accuracy: {epoch_accuracy:.2F}%, \"))\n",
    "#     if best_accuracy < epoch_accuracy:\n",
    "#         best_accuracy = epoch_accuracy\n",
    "#         torch.save((net.state_dict(), results), save_path)\n",
    "    \n",
    "print(results)"
   ]
  },
  {
   "cell_type": "markdown",
   "metadata": {
    "papermill": {
     "duration": 0.021472,
     "end_time": "2021-03-01T17:31:14.102034",
     "exception": false,
     "start_time": "2021-03-01T17:31:14.080562",
     "status": "completed"
    },
    "tags": []
   },
   "source": [
    "Evaluate and submit"
   ]
  },
  {
   "cell_type": "code",
   "execution_count": 10,
   "metadata": {
    "execution": {
     "iopub.execute_input": "2021-03-01T17:31:14.160704Z",
     "iopub.status.busy": "2021-03-01T17:31:14.159983Z",
     "iopub.status.idle": "2021-03-01T17:31:14.622081Z",
     "shell.execute_reply": "2021-03-01T17:31:14.622578Z"
    },
    "papermill": {
     "duration": 0.498151,
     "end_time": "2021-03-01T17:31:14.622792",
     "exception": false,
     "start_time": "2021-03-01T17:31:14.124641",
     "status": "completed"
    },
    "tags": []
   },
   "outputs": [],
   "source": [
    "# save_path = \"../model/\" + 'v1.0'\n",
    "\n",
    "# params, results = torch.load(save_path)\n",
    "# net.load_state_dict(params)\n",
    "\n",
    "test_df = pd.DataFrame(columns=['image_id', 'label'])\n",
    "test_df['image_id'] = list(os.listdir('../input/cassava-leaf-disease-classification/test_images/'))\n",
    "# print(test_df.head())\n",
    "# print(data.head())\n",
    "test_dataset = CassavaDataset(test_df, transform=transforms_train, mode=\"test\")\n",
    "test_loader = torch.utils.data.DataLoader(test_dataset, batch_size=16, num_workers=12)\n",
    "\n",
    "with torch.no_grad():\n",
    "    for data in test_loader:\n",
    "        images, _, indexes = data\n",
    "        if torch.cuda.is_available():\n",
    "            images = images.to(dev)\n",
    "        outputs = net(images)\n",
    "        _, predicted = torch.max(outputs.data, 1)\n",
    "        test_df['label'][indexes.numpy()] = predicted.cpu().detach().numpy()\n",
    "\n"
   ]
  },
  {
   "cell_type": "code",
   "execution_count": 11,
   "metadata": {
    "execution": {
     "iopub.execute_input": "2021-03-01T17:31:14.672994Z",
     "iopub.status.busy": "2021-03-01T17:31:14.672111Z",
     "iopub.status.idle": "2021-03-01T17:31:14.845146Z",
     "shell.execute_reply": "2021-03-01T17:31:14.844537Z"
    },
    "papermill": {
     "duration": 0.199866,
     "end_time": "2021-03-01T17:31:14.845301",
     "exception": false,
     "start_time": "2021-03-01T17:31:14.645435",
     "status": "completed"
    },
    "tags": []
   },
   "outputs": [],
   "source": [
    "test_df.to_csv('submission.csv',index=False)"
   ]
  }
 ],
 "metadata": {
  "kernelspec": {
   "display_name": "Python 3",
   "language": "python",
   "name": "python3"
  },
  "language_info": {
   "codemirror_mode": {
    "name": "ipython",
    "version": 3
   },
   "file_extension": ".py",
   "mimetype": "text/x-python",
   "name": "python",
   "nbconvert_exporter": "python",
   "pygments_lexer": "ipython3",
   "version": "3.9.5"
  },
  "papermill": {
   "default_parameters": {},
   "duration": 12622.978177,
   "end_time": "2021-03-01T17:31:17.166786",
   "environment_variables": {},
   "exception": null,
   "input_path": "__notebook__.ipynb",
   "output_path": "__notebook__.ipynb",
   "parameters": {},
   "start_time": "2021-03-01T14:00:54.188609",
   "version": "2.2.2"
  }
 },
 "nbformat": 4,
 "nbformat_minor": 4
}
